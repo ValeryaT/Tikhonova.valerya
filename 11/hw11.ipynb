{
 "cells": [
  {
   "cell_type": "code",
   "execution_count": 6,
   "metadata": {},
   "outputs": [],
   "source": [
    "import pandas as pd"
   ]
  },
  {
   "cell_type": "markdown",
   "metadata": {},
   "source": [
    "# Задание 1"
   ]
  },
  {
   "cell_type": "code",
   "execution_count": 9,
   "metadata": {},
   "outputs": [
    {
     "data": {
      "text/plain": "    timestamp    visit_id                                 url  region  \\\n0  1549980692  e3b0c44298  https://host.ru/3c19b4ef7371864fa3  Russia   \n1  1549980704  6e340b9cff  https://host.ru/c8d9213a31839f9a3a  Russia   \n2  1549980715  96a296d224  https://host.ru/b8b58337d272ee7b15  Russia   \n3  1549980725  709e80c884  https://host.ru/b8b58337d272ee7b15  Russia   \n4  1549980736  df3f619804  https://host.ru/b8b58337d272ee7b15  Russia   \n\n      user_id traffic_source source_type  \n0  b1613cc09f         yandex     organic  \n1  4c3ec14bee         direct         NaN  \n2  a8c40697fb         yandex     organic  \n3  521ac1d6a0         yandex     organic  \n4  d7323c571c         yandex     organic  ",
      "text/html": "<div>\n<style scoped>\n    .dataframe tbody tr th:only-of-type {\n        vertical-align: middle;\n    }\n\n    .dataframe tbody tr th {\n        vertical-align: top;\n    }\n\n    .dataframe thead th {\n        text-align: right;\n    }\n</style>\n<table border=\"1\" class=\"dataframe\">\n  <thead>\n    <tr style=\"text-align: right;\">\n      <th></th>\n      <th>timestamp</th>\n      <th>visit_id</th>\n      <th>url</th>\n      <th>region</th>\n      <th>user_id</th>\n      <th>traffic_source</th>\n      <th>source_type</th>\n    </tr>\n  </thead>\n  <tbody>\n    <tr>\n      <th>0</th>\n      <td>1549980692</td>\n      <td>e3b0c44298</td>\n      <td>https://host.ru/3c19b4ef7371864fa3</td>\n      <td>Russia</td>\n      <td>b1613cc09f</td>\n      <td>yandex</td>\n      <td>organic</td>\n    </tr>\n    <tr>\n      <th>1</th>\n      <td>1549980704</td>\n      <td>6e340b9cff</td>\n      <td>https://host.ru/c8d9213a31839f9a3a</td>\n      <td>Russia</td>\n      <td>4c3ec14bee</td>\n      <td>direct</td>\n      <td>NaN</td>\n    </tr>\n    <tr>\n      <th>2</th>\n      <td>1549980715</td>\n      <td>96a296d224</td>\n      <td>https://host.ru/b8b58337d272ee7b15</td>\n      <td>Russia</td>\n      <td>a8c40697fb</td>\n      <td>yandex</td>\n      <td>organic</td>\n    </tr>\n    <tr>\n      <th>3</th>\n      <td>1549980725</td>\n      <td>709e80c884</td>\n      <td>https://host.ru/b8b58337d272ee7b15</td>\n      <td>Russia</td>\n      <td>521ac1d6a0</td>\n      <td>yandex</td>\n      <td>organic</td>\n    </tr>\n    <tr>\n      <th>4</th>\n      <td>1549980736</td>\n      <td>df3f619804</td>\n      <td>https://host.ru/b8b58337d272ee7b15</td>\n      <td>Russia</td>\n      <td>d7323c571c</td>\n      <td>yandex</td>\n      <td>organic</td>\n    </tr>\n  </tbody>\n</table>\n</div>"
     },
     "execution_count": 9,
     "metadata": {},
     "output_type": "execute_result"
    }
   ],
   "source": [
    "logs = pd.read_csv(\"visit_log.csv\", sep=';')\n",
    "\n",
    "logs.loc[((logs.traffic_source == 'yandex') |\n",
    "          (logs.traffic_source == 'google')), 'source_type'] = 'organic'\n",
    "\n",
    "logs.loc[(((logs.traffic_source == 'paid') |\n",
    "           (logs.traffic_source == 'email')) &\n",
    "          (logs.region == 'Russia')), 'source_type'] = 'ad'\n",
    "\n",
    "logs.loc[(((logs.traffic_source == 'paid') |\n",
    "           (logs.traffic_source == 'email')) &\n",
    "          (logs.region != 'Russia')), 'source_type'] = 'other'\n",
    "\n",
    "logs.head()"
   ]
  },
  {
   "cell_type": "markdown",
   "metadata": {},
   "source": [
    "# Задание 2"
   ]
  },
  {
   "cell_type": "code",
   "execution_count": 10,
   "metadata": {},
   "outputs": [
    {
     "data": {
      "text/plain": "3     /politics/36188461-s-marta-zhizn-rossiyan-susc...\n4     /world/36007585-tramp-pridumal-kak-reshit-ukra...\n5     /science/36157853-nasa-sobiraet-ekstrennuyu-pr...\n6     /video/36001498-poyavilis-pervye-podrobnosti-g...\n7     /world/36007585-tramp-pridumal-kak-reshit-ukra...\n                            ...                        \n88    /cis/35984145-kreml-prokommentiroval-soobschen...\n89    /video/36071019-olimpiyskie-obekty-rio-prevrat...\n90    /science/36151301-nazvano-posledstvie-zloupotr...\n91    /incidents/36027330-vospitatelnitsu-zatravili-...\n92    /world/36103095-dominikanskih-zhurnalistov-ubi...\nName: url, Length: 84, dtype: object"
     },
     "execution_count": 10,
     "metadata": {},
     "output_type": "execute_result"
    }
   ],
   "source": [
    "urls = pd.read_csv(\"URLs.txt\")\n",
    "urls.loc[urls.url.str.contains(r'/\\d{8}-'), 'url']\n"
   ]
  },
  {
   "cell_type": "markdown",
   "metadata": {},
   "source": [
    "# Задание 3"
   ]
  },
  {
   "cell_type": "code",
   "execution_count": 14,
   "metadata": {},
   "outputs": [
    {
     "name": "stdout",
     "output_type": "stream",
     "text": [
      "Среднее время жизни - 463 days 21:28:27.449612408\n"
     ]
    }
   ],
   "source": [
    "rat = pd.read_csv(\"ml-latest-small/ratings.csv\")\n",
    "\n",
    "count = 100\n",
    "rat['date'] = rat.timestamp.apply(lambda x: pd.Timestamp(x, unit = 's'))\n",
    "m = rat.groupby('userId')\n",
    "rat_count = m.count().join(m.min().date, rsuffix = '_min').join(m.max().date, rsuffix = '_max')\n",
    "rat_count['difference'] = rat_count.date_max-rat_count.date_min\n",
    "rat_count[m.rating.count() > count].difference.mean()\n",
    "print(f'Среднее время жизни - {rat_count[m.rating.count() > count].difference.mean()}')"
   ]
  },
  {
   "cell_type": "markdown",
   "source": [
    "# Задание 4"
   ],
   "metadata": {
    "collapsed": false
   }
  },
  {
   "cell_type": "code",
   "execution_count": 21,
   "outputs": [
    {
     "name": "stdout",
     "output_type": "stream",
     "text": [
      "   client_id  rzd_revenue  auto_revenue  air_revenue\n",
      "0        111       1093.0           NaN          NaN\n",
      "1        112       2810.0           NaN          NaN\n",
      "2        113      10283.0       57483.0          NaN\n",
      "3        114       5774.0          83.0          NaN\n",
      "4        115        981.0         912.0         81.0\n",
      "5        116          NaN        4834.0          4.0\n",
      "6        117          NaN          98.0         13.0\n",
      "7        118          NaN           NaN        173.0 \n",
      "\n",
      "    client_id  rzd_revenue  auto_revenue  air_revenue          address\n",
      "0        111       1093.0           NaN          NaN  Комсомольская 4\n",
      "1        112       2810.0           NaN          NaN   Энтузиастов 8а\n",
      "2        113      10283.0       57483.0          NaN  Левобережная 1а\n",
      "3        114       5774.0          83.0          NaN          Мира 14\n",
      "4        115        981.0         912.0         81.0        ЗЖБИиДК 1\n",
      "5        116          NaN        4834.0          4.0    Строителей 18\n",
      "6        117          NaN          98.0         13.0  Панфиловская 33\n",
      "7        118          NaN           NaN        173.0     Мастеркова 4\n"
     ]
    }
   ],
   "source": [
    "rzd = pd.DataFrame({'client_id': [111, 112, 113, 114, 115],\n",
    "                    'rzd_revenue': [1093, 2810, 10283, 5774, 981]})\n",
    "\n",
    "auto = pd.DataFrame({'client_id': [113, 114, 115, 116, 117],\n",
    "                     'auto_revenue': [57483, 83, 912, 4834, 98]})\n",
    "\n",
    "air = pd.DataFrame({'client_id': [115, 116, 117, 118],\n",
    "                    'air_revenue': [81, 4, 13, 173]})\n",
    "\n",
    "client_base = pd.DataFrame({'client_id': [111, 112, 113, 114, 115, 116, 117, 118],\n",
    "                            'address': ['Комсомольская 4', 'Энтузиастов 8а', 'Левобережная 1а', 'Мира 14', 'ЗЖБИиДК 1',\n",
    "                                        'Строителей 18', 'Панфиловская 33', 'Мастеркова 4']})\n",
    "\n",
    "ftable = rzd.merge(auto, how = 'outer').merge(air, how = 'outer')\n",
    "stable = ftable.merge(client_base, how = 'outer')\n",
    "\n",
    "print(ftable, '\\n\\n', stable)"
   ],
   "metadata": {
    "collapsed": false,
    "pycharm": {
     "name": "#%%\n"
    }
   }
  },
  {
   "cell_type": "code",
   "execution_count": null,
   "outputs": [],
   "source": [],
   "metadata": {
    "collapsed": false,
    "pycharm": {
     "name": "#%%\n"
    }
   }
  }
 ],
 "metadata": {
  "kernelspec": {
   "display_name": "Python 3",
   "language": "python",
   "name": "python3"
  },
  "language_info": {
   "codemirror_mode": {
    "name": "ipython",
    "version": 3
   },
   "file_extension": ".py",
   "mimetype": "text/x-python",
   "name": "python",
   "nbconvert_exporter": "python",
   "pygments_lexer": "ipython3",
   "version": "3.6.9"
  }
 },
 "nbformat": 4,
 "nbformat_minor": 1
}