{
 "cells": [
  {
   "cell_type": "code",
   "execution_count": 1,
   "metadata": {},
   "outputs": [],
   "source": [
    "import pandas as pd"
   ]
  },
  {
   "cell_type": "markdown",
   "metadata": {},
   "source": [
    "# Задание 1"
   ]
  },
  {
   "cell_type": "code",
   "execution_count": 76,
   "metadata": {},
   "outputs": [
    {
     "data": {
      "text/plain": [
       "Shawshank Redemption, The (1994)    153\n",
       "Name: title, dtype: int64"
      ]
     },
     "execution_count": 76,
     "metadata": {},
     "output_type": "execute_result"
    }
   ],
   "source": [
    "rat = pd.read_csv(\"ratings.csv\")\n",
    "\n",
    "join = rat.merge(pd.read_csv(\"movies.csv\"), how='left', on='movieId')\n",
    "best = join[ join.rating == 5 ]\n",
    "best[['rating', 'title']].title.value_counts().head(1)\n"
   ]
  },
  {
   "cell_type": "markdown",
   "metadata": {},
   "source": [
    "# Задание 2"
   ]
  },
  {
   "cell_type": "code",
   "execution_count": null,
   "metadata": {},
   "outputs": [],
   "source": [
    "con = pd.read_csv(\"power.csv\")\n",
    "con.head()\n",
    "filter_country = con[ (con['country']=='Latvia') | (con['country']=='Lithuania') | (con['country']=='Estonia') ]\n",
    "filter_year = filter_country[ (filter_country['year'] >= 2005) & (filter_country['year'] <= 2010) ]\n",
    "posit = filter_year[ filter_year.quantity > 0 ]\n",
    "posit.quantity.count()"
   ]
  },
  {
   "cell_type": "markdown",
   "metadata": {},
   "source": [
    "# Задание 3"
   ]
  },
  {
   "cell_type": "code",
   "execution_count": null,
   "metadata": {},
   "outputs": [],
   "source": [
    "frame = pd.read_html(\"https://meteo.paraplan.net/ru/forecast/summary.html?place=3012\")[0]\n",
    "type(frame)"
   ]
  }
 ],
 "metadata": {
  "kernelspec": {
   "display_name": "Python 3",
   "language": "python",
   "name": "python3"
  },
  "language_info": {
   "codemirror_mode": {
    "name": "ipython",
    "version": 3
   },
   "file_extension": ".py",
   "mimetype": "text/x-python",
   "name": "python",
   "nbconvert_exporter": "python",
   "pygments_lexer": "ipython3",
   "version": "3.6.9"
  }
 },
 "nbformat": 4,
 "nbformat_minor": 1
}