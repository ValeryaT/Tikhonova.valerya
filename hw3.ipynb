{
 "cells": [
  {
   "cell_type": "markdown",
   "id": "closed-radio",
   "metadata": {},
   "source": [
    "# Задания"
   ]
  },
  {
   "cell_type": "code",
   "execution_count": null,
   "id": "posted-contract",
   "metadata": {},
   "outputs": [],
   "source": [
    "documents = [\n",
    " {'type': 'passport', 'number': '2207 876234', 'name': 'Василий Гупкин'},\n",
    " {'type': 'invoice', 'number': '11-2', 'name': 'Геннадий Покемонов'},\n",
    " {'type': 'insurance', 'number': '10006', 'name': 'Аристарх Павлов'}\n",
    "]\n",
    "\n",
    "directories = {\n",
    " '1': ['2207 876234', '11-2'],\n",
    " '2': ['10006'],\n",
    " '3': []\n",
    "}\n",
    "\n",
    "\n",
    "# Задание 1\n",
    "def person():\n",
    "    n = input('Введите номер документа: ')\n",
    "    for s in documents:\n",
    "        if n == s['number']:\n",
    "            return s['name']\n",
    "    return \"Документ не найден в базе\"\n",
    "\n",
    "\n",
    "# Задание 2\n",
    "def store():\n",
    "    n = input('Введите номер документа: ')\n",
    "    for s in directories:\n",
    "        if n in directories[s]:\n",
    "            return f\"Полка №{s}\"\n",
    "    return \"Документ не найден в базе\"\n",
    "\n",
    "\n",
    "# Задание 3\n",
    "def locate():\n",
    "    s = ''\n",
    "    for doc in documents:\n",
    "        num = doc['number']\n",
    "        place = [s for s in directories if num in directories[s]]\n",
    "        s += f\"№: {doc['number']}, тип: {doc['type']}, владелец: {doc['name']}, полка хранения: {place[0]} \\n\"\n",
    "    return s\n",
    "\n",
    "\n",
    "# Задание 5\n",
    "def ads():\n",
    "    n = input('Введите номер полки: ')\n",
    "    if directories.get(n):\n",
    "        return \"Полка с таким именем уже существует\"\n",
    "    directories.update({n: []})\n",
    "    places = [d for d in directories]\n",
    "    return f\"Полка добавлена. Текущий перечень полок: {places}\"\n",
    "\n",
    "\n",
    "# Задание 4\n",
    "def delete():\n",
    "    n = input('Введите номер полки: ')\n",
    "    if directories.get(n) or directories.get(n) == []:\n",
    "        if len(directories.get(n)) == 0:\n",
    "            directories.pop(n)\n",
    "            places = [d for d in directories]\n",
    "            return f\"Полка удалена. Текущий перечень полок: {places}\"\n",
    "    return \"Полка не пуста или не существует\"\n",
    "\n",
    "\n",
    "if __name__ == '__main__':\n",
    "    dict_ = {\n",
    "      'p': person,\n",
    "      's': store,\n",
    "      'l': locate,\n",
    "      'ads': ads,\n",
    "      'ds': delete,\n",
    "     }\n",
    "    f = input('Введите команду p, s, l, ds, ads или q : ')\n",
    "    while f != 'q':\n",
    "        print(dict_.get(f)())\n",
    "        f = input('Введите команду : ')"
   ]
  },
  {
   "cell_type": "code",
   "execution_count": null,
   "id": "moderate-reach",
   "metadata": {
    "pycharm": {
     "is_executing": true
    }
   },
   "outputs": [],
   "source": []
  }
 ],
 "metadata": {
  "kernelspec": {
   "display_name": "Python 3",
   "language": "python",
   "name": "python3"
  },
  "language_info": {
   "codemirror_mode": {
    "name": "ipython",
    "version": 3
   },
   "file_extension": ".py",
   "mimetype": "text/x-python",
   "name": "python",
   "nbconvert_exporter": "python",
   "pygments_lexer": "ipython3",
   "version": "3.6.9"
  }
 },
 "nbformat": 4,
 "nbformat_minor": 5
}