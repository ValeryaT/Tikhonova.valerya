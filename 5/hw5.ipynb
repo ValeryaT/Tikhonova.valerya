{
 "cells": [
  {
   "cell_type": "markdown",
   "id": "disturbed-organic",
   "metadata": {},
   "source": [
    "# Задание 1"
   ]
  },
  {
   "cell_type": "code",
   "execution_count": 4,
   "id": "outer-ethnic",
   "metadata": {},
   "outputs": [
    {
     "name": "stdout",
     "output_type": "stream",
     "text": [
      "2002-10-02 00:00:00\n",
      "2013-10-11 00:00:00\n",
      "1977-08-18 00:00:00\n"
     ]
    }
   ],
   "source": [
    "from datetime import datetime\n",
    "\n",
    "\n",
    "Moscow = \"Wednesday, October 2, 2002\"\n",
    "print(datetime.strptime(Moscow, '%A, %B %d, %Y'))\n",
    "\n",
    "\n",
    "Guardian = \"Friday, 11.10.13\"\n",
    "print(datetime.strptime(Guardian, '%A, %d.%m.%y'))\n",
    "\n",
    "Daily = \"Thursday, 18 August 1977\"\n",
    "print(datetime.strptime(Daily, '%A, %d %B %Y'))"
   ]
  },
  {
   "cell_type": "markdown",
   "id": "expired-dependence",
   "metadata": {},
   "source": [
    "# Задание 2"
   ]
  },
  {
   "cell_type": "code",
   "execution_count": 5,
   "id": "hungarian-document",
   "metadata": {},
   "outputs": [
    {
     "name": "stdout",
     "output_type": "stream",
     "text": [
      "2018-04-02 True\n",
      "2018-02-29 False\n",
      "2018-19-02 False\n"
     ]
    }
   ],
   "source": [
    "from datetime import datetime\n",
    "\n",
    "\n",
    "stream = [\"2018-04-02\", \"2018-02-29\", \"2018-19-02\"]\n",
    "\n",
    "\n",
    "def check(date_):\n",
    "    try:\n",
    "        datetime.strptime(date_, \"%Y-%m-%d\")\n",
    "        return True\n",
    "    except:\n",
    "        return False\n",
    "\n",
    "\n",
    "for date_ in stream:\n",
    "    print(f\"{date_} {check(date_)}\")\n"
   ]
  },
  {
   "cell_type": "markdown",
   "id": "catholic-johnston",
   "metadata": {},
   "source": [
    "# Задание 3"
   ]
  },
  {
   "cell_type": "code",
   "execution_count": 10,
   "id": "nutritional-stability",
   "metadata": {},
   "outputs": [
    {
     "name": "stdout",
     "output_type": "stream",
     "text": [
      "['2020-08-01', '2020-08-02', '2020-08-03', '2020-08-04', '2020-08-05', '2020-08-06', '2020-08-07', '2020-08-08', '2020-08-09', '2020-08-10', '2020-08-11']\n"
     ]
    }
   ],
   "source": [
    "from datetime import datetime, timedelta\n",
    "\n",
    "\n",
    "start_date = \"2020-08-01\"\n",
    "end_date = \"2020-08-11\"\n",
    "\n",
    "\n",
    "def check(date_):\n",
    "    try:\n",
    "        ok = datetime.strptime(date_, \"%Y-%m-%d\")\n",
    "        return ok\n",
    "    except:\n",
    "        return False\n",
    "\n",
    "start = check(start_date)\n",
    "end = check(end_date)\n",
    "list_ = []\n",
    "if start and end and end > start:\n",
    "    while start <= end:\n",
    "        list_.append(start.strftime(\"%Y-%m-%d\"))\n",
    "        start += timedelta(days=1)\n",
    "print(list_)"
   ]
  }
 ],
 "metadata": {
  "kernelspec": {
   "display_name": "Python 3",
   "language": "python",
   "name": "python3"
  },
  "language_info": {
   "codemirror_mode": {
    "name": "ipython",
    "version": 3
   },
   "file_extension": ".py",
   "mimetype": "text/x-python",
   "name": "python",
   "nbconvert_exporter": "python",
   "pygments_lexer": "ipython3",
   "version": "3.6.9"
  }
 },
 "nbformat": 4,
 "nbformat_minor": 5
}
