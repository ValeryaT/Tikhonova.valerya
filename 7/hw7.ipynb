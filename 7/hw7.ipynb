{
 "cells": [
  {
   "cell_type": "markdown",
   "id": "working-effects",
   "metadata": {},
   "source": [
    "# задание 1"
   ]
  },
  {
   "cell_type": "code",
   "execution_count": 4,
   "id": "future-remedy",
   "metadata": {},
   "outputs": [],
   "source": [
    "import re\n",
    "\n",
    "\n",
    "rus = ['А', 'В', 'Е', 'К', 'М', 'Н', 'О', 'Р', 'С', 'Т', 'У', 'Х']\n",
    "eng = ['A', 'B', 'E', 'K', 'M', 'H', 'O', 'P', 'C', 'T', 'Y', 'X']\n",
    "\n",
    "\n",
    "def car(car_id):\n",
    "    car = re.search(r'^\\w\\d{3}\\w{2}\\d{2,3}$', car_id)\n",
    "    if car:\n",
    "        num = re.search(r'^\\w\\d{3}\\w{2}', car_id)\n",
    "        sym = re.findall(r'\\D', car_id)\n",
    "        for s in sym:\n",
    "            if (s in rus) or (s in eng):\n",
    "                return f\"Номер {num[0]} валиден. Регион: {car_id.split(num[0])[-1]}\"\n",
    "    return \"Номер не валиден\""
   ]
  },
  {
   "cell_type": "code",
   "execution_count": 7,
   "id": "possible-oxygen",
   "metadata": {},
   "outputs": [
    {
     "data": {
      "text/plain": [
       "'Номер A123AA валиден. Регион: 65'"
      ]
     },
     "execution_count": 7,
     "metadata": {},
     "output_type": "execute_result"
    }
   ],
   "source": [
    "car(\"A123AA65\")"
   ]
  },
  {
   "cell_type": "markdown",
   "id": "sophisticated-walter",
   "metadata": {},
   "source": [
    "# задание 2"
   ]
  },
  {
   "cell_type": "code",
   "execution_count": 8,
   "id": "better-botswana",
   "metadata": {},
   "outputs": [],
   "source": [
    "import re\n",
    "\n",
    "\n",
    "def repeat(string):\n",
    "    str_ = re.findall(r'\\w+|[,.]', string)\n",
    "    prev_word = str_[0]\n",
    "    new_str = prev_word\n",
    "    for word in str_[1:]:\n",
    "        w = re.match(prev_word, word)\n",
    "        if w is None:\n",
    "            if word not in [',', '.']:\n",
    "                new_str += f\" {word}\"\n",
    "            else:\n",
    "                new_str += f\"{word}\"\n",
    "        prev_word = word\n",
    "\n",
    "    return new_str"
   ]
  },
  {
   "cell_type": "code",
   "execution_count": 9,
   "id": "fifty-floating",
   "metadata": {},
   "outputs": [
    {
     "data": {
      "text/plain": [
       "'Напишите функцию, которая будет удалять все последовательные повторы слов из заданной строки при помощи регулярных выражений.'"
      ]
     },
     "execution_count": 9,
     "metadata": {},
     "output_type": "execute_result"
    }
   ],
   "source": [
    "some_string = 'Напишите функцию функцию, которая будет будет будет будет удалять все все все все последовательные повторы слов из из из из заданной строки строки при помощи регулярных выражений.'\n",
    "repeat(some_string)"
   ]
  },
  {
   "cell_type": "markdown",
   "id": "difficult-demand",
   "metadata": {},
   "source": [
    "# задание 3"
   ]
  },
  {
   "cell_type": "code",
   "execution_count": 10,
   "id": "iraqi-narrative",
   "metadata": {},
   "outputs": [],
   "source": [
    "import re\n",
    "\n",
    "\n",
    "def acronim(string):\n",
    "    str_ = re.findall(r'\\w+', string)\n",
    "    b = [a[0].capitalize() for a in str_]\n",
    "    return ''.join(map(str, b))"
   ]
  },
  {
   "cell_type": "code",
   "execution_count": 11,
   "id": "grateful-reader",
   "metadata": {},
   "outputs": [
    {
     "data": {
      "text/plain": [
       "'AD'"
      ]
     },
     "execution_count": 11,
     "metadata": {},
     "output_type": "execute_result"
    }
   ],
   "source": [
    "acronim(\"AAAAA DDDDDD\")"
   ]
  },
  {
   "cell_type": "markdown",
   "id": "exotic-flower",
   "metadata": {},
   "source": [
    "# задание 4"
   ]
  },
  {
   "cell_type": "code",
   "execution_count": 12,
   "id": "pregnant-league",
   "metadata": {},
   "outputs": [],
   "source": [
    "import re\n",
    "from collections import Counter\n",
    "\n",
    "\n",
    "def email(em):\n",
    "    c = Counter()\n",
    "    res = ''\n",
    "    for mail in em:\n",
    "        c[re.search(r'\\w+[.]\\w+', mail)[0]] += 1\n",
    "    for k, v in c.items():\n",
    "        res += f'{k}: {v}\\n'\n",
    "    return res"
   ]
  },
  {
   "cell_type": "code",
   "execution_count": 14,
   "id": "attached-defense",
   "metadata": {},
   "outputs": [
    {
     "name": "stdout",
     "output_type": "stream",
     "text": [
      "gmail.com: 2\n",
      "test.in: 1\n",
      "ya.ru: 2\n",
      "mail.ru: 1\n",
      "\n"
     ]
    }
   ],
   "source": [
    "emails = ['test@gmail.com', 'xyz@test.in', 'test@ya.ru', 'xyz@mail.ru', 'xyz@ya.ru', 'xyz@gmail.com']\n",
    "print(email(emails))"
   ]
  },
  {
   "cell_type": "code",
   "execution_count": null,
   "id": "domestic-bikini",
   "metadata": {},
   "outputs": [],
   "source": []
  }
 ],
 "metadata": {
  "kernelspec": {
   "display_name": "Python 3",
   "language": "python",
   "name": "python3"
  },
  "language_info": {
   "codemirror_mode": {
    "name": "ipython",
    "version": 3
   },
   "file_extension": ".py",
   "mimetype": "text/x-python",
   "name": "python",
   "nbconvert_exporter": "python",
   "pygments_lexer": "ipython3",
   "version": "3.6.9"
  }
 },
 "nbformat": 4,
 "nbformat_minor": 5
}
