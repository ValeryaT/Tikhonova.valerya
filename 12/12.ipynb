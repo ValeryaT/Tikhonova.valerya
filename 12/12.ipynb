{
 "cells": [
  {
   "cell_type": "code",
   "execution_count": 3,
   "metadata": {},
   "outputs": [],
   "source": [
    "import requests\n",
    "from bs4 import BeautifulSoup\n",
    "import pandas as pd"
   ]
  },
  {
   "cell_type": "markdown",
   "metadata": {},
   "source": [
    "# Задание 1"
   ]
  },
  {
   "cell_type": "code",
   "execution_count": 49,
   "metadata": {
    "pycharm": {
     "name": "#%%\n"
    }
   },
   "outputs": [
    {
     "data": {
      "text/html": [
       "<div>\n",
       "<style scoped>\n",
       "    .dataframe tbody tr th:only-of-type {\n",
       "        vertical-align: middle;\n",
       "    }\n",
       "\n",
       "    .dataframe tbody tr th {\n",
       "        vertical-align: top;\n",
       "    }\n",
       "\n",
       "    .dataframe thead th {\n",
       "        text-align: right;\n",
       "    }\n",
       "</style>\n",
       "<table border=\"1\" class=\"dataframe\">\n",
       "  <thead>\n",
       "    <tr style=\"text-align: right;\">\n",
       "      <th></th>\n",
       "      <th>date</th>\n",
       "      <th>title</th>\n",
       "      <th>href</th>\n",
       "    </tr>\n",
       "  </thead>\n",
       "  <tbody>\n",
       "    <tr>\n",
       "      <th>0</th>\n",
       "      <td>сегодня в 17:54</td>\n",
       "      <td>Hack The Box. Прохождение Doctor. SSTI to RCE....</td>\n",
       "      <td>https://habr.com/ru/post/541006/</td>\n",
       "    </tr>\n",
       "    <tr>\n",
       "      <th>1</th>\n",
       "      <td>сегодня в 00:26</td>\n",
       "      <td>Рецепт обучения нейросетей</td>\n",
       "      <td>https://habr.com/ru/post/541136/</td>\n",
       "    </tr>\n",
       "  </tbody>\n",
       "</table>\n",
       "</div>"
      ],
      "text/plain": [
       "              date                                              title  \\\n",
       "0  сегодня в 17:54  Hack The Box. Прохождение Doctor. SSTI to RCE....   \n",
       "1  сегодня в 00:26                         Рецепт обучения нейросетей   \n",
       "\n",
       "                               href  \n",
       "0  https://habr.com/ru/post/541006/  \n",
       "1  https://habr.com/ru/post/541136/  "
      ]
     },
     "execution_count": 49,
     "metadata": {},
     "output_type": "execute_result"
    }
   ],
   "source": [
    "KEYWORDS = ['python', 'парсинг']\n",
    "result = []\n",
    "\n",
    "req = requests.get('https://habr.com/ru/all/')\n",
    "soup = BeautifulSoup(req.text, 'html')\n",
    "\n",
    "posts = soup.find_all('article', class_='post')\n",
    "for post in posts:\n",
    "    #print(post)\n",
    "    #post_id = post.parent.attrs.get('id')\n",
    "    for word in KEYWORDS:\n",
    "        if word in post.text.lower():\n",
    "            date = post.find('span', class_='post__time').text\n",
    "            title = post.find('a', class_='post__title_link').text\n",
    "            href = post.find('a', class_='post__title_link').get('href')\n",
    "            result.append({\n",
    "                \"date\": date,\n",
    "                \"title\": title,\n",
    "                \"href\": href\n",
    "            })\n",
    "\n",
    "pd.DataFrame.from_dict(result)"
   ]
  },
  {
   "cell_type": "markdown",
   "metadata": {},
   "source": [
    "# Задание 2"
   ]
  },
  {
   "cell_type": "code",
   "execution_count": 14,
   "metadata": {
    "pycharm": {
     "name": "#%%\n"
    }
   },
   "outputs": [
    {
     "data": {
      "text/plain": "       mail        date              site  \\\n0  xxx@x.ru  28.03.2019  verifications.io   \n1  xxx@x.ru  21.05.2020            vk.com   \n2  xxx@x.ru  14.02.2017    parapa.mail.ru   \n3  xxx@x.ru  29.10.2016            vk.com   \n4  xxx@x.ru  21.10.2016         adobe.com   \n5  xxx@x.ru  14.02.2017     cfire.mail.ru   \n6  xxx@x.ru  31.01.2017  cdprojektred.com   \n7  xxx@x.ru  23.10.2016         imesh.com   \n\n                                         description  \n0  Big data e-mail verification platform verifica...  \n1  At some time in 2020, the Russian social netwo...  \n2  In July and August 2016, two criminals execute...  \n3  Popular Russian social networking platform VKo...  \n4  In October of 2013, criminals penetrated Adobe...  \n5  In July and August of 2016, two criminals carr...  \n6  In March 2016, CDProjektRed.com.coms forum dat...  \n7  In June 2016, a cache of over 51 million user ...  ",
      "text/html": "<div>\n<style scoped>\n    .dataframe tbody tr th:only-of-type {\n        vertical-align: middle;\n    }\n\n    .dataframe tbody tr th {\n        vertical-align: top;\n    }\n\n    .dataframe thead th {\n        text-align: right;\n    }\n</style>\n<table border=\"1\" class=\"dataframe\">\n  <thead>\n    <tr style=\"text-align: right;\">\n      <th></th>\n      <th>mail</th>\n      <th>date</th>\n      <th>site</th>\n      <th>description</th>\n    </tr>\n  </thead>\n  <tbody>\n    <tr>\n      <th>0</th>\n      <td>xxx@x.ru</td>\n      <td>28.03.2019</td>\n      <td>verifications.io</td>\n      <td>Big data e-mail verification platform verifica...</td>\n    </tr>\n    <tr>\n      <th>1</th>\n      <td>xxx@x.ru</td>\n      <td>21.05.2020</td>\n      <td>vk.com</td>\n      <td>At some time in 2020, the Russian social netwo...</td>\n    </tr>\n    <tr>\n      <th>2</th>\n      <td>xxx@x.ru</td>\n      <td>14.02.2017</td>\n      <td>parapa.mail.ru</td>\n      <td>In July and August 2016, two criminals execute...</td>\n    </tr>\n    <tr>\n      <th>3</th>\n      <td>xxx@x.ru</td>\n      <td>29.10.2016</td>\n      <td>vk.com</td>\n      <td>Popular Russian social networking platform VKo...</td>\n    </tr>\n    <tr>\n      <th>4</th>\n      <td>xxx@x.ru</td>\n      <td>21.10.2016</td>\n      <td>adobe.com</td>\n      <td>In October of 2013, criminals penetrated Adobe...</td>\n    </tr>\n    <tr>\n      <th>5</th>\n      <td>xxx@x.ru</td>\n      <td>14.02.2017</td>\n      <td>cfire.mail.ru</td>\n      <td>In July and August of 2016, two criminals carr...</td>\n    </tr>\n    <tr>\n      <th>6</th>\n      <td>xxx@x.ru</td>\n      <td>31.01.2017</td>\n      <td>cdprojektred.com</td>\n      <td>In March 2016, CDProjektRed.com.coms forum dat...</td>\n    </tr>\n    <tr>\n      <th>7</th>\n      <td>xxx@x.ru</td>\n      <td>23.10.2016</td>\n      <td>imesh.com</td>\n      <td>In June 2016, a cache of over 51 million user ...</td>\n    </tr>\n  </tbody>\n</table>\n</div>"
     },
     "execution_count": 14,
     "metadata": {},
     "output_type": "execute_result"
    }
   ],
   "source": [
    "from datetime import datetime\n",
    "\n",
    "#<почта> - <дата утечки> - <источник утечки> - <описание утечки>\n",
    "EMAIL = [\"xxx@x.ru\", \"yyy@y.com\"]\n",
    "URL = 'https://identityprotection.avast.com/v1/web/query/site-breaches/unauthorized-data'\n",
    "headers = {'Vaar-Header-App-Product': 'hackcheck-web-avast', 'Vaar-Version': '0'}\n",
    "result = []\n",
    "\n",
    "params = {\"emailAddresses\": EMAIL}\n",
    "data = requests.post(URL, json=params, headers=headers).json()\n",
    "\n",
    "for b in data['breaches']:\n",
    "    breach_date = data['breaches'][b]['publishDate']\n",
    "    breach_date = datetime.strptime(breach_date, '%Y-%m-%dT%H:%M:%SZ').strftime('%d.%m.%Y')\n",
    "    breach_site = data['breaches'][b]['site']\n",
    "    breach_desc = data['breaches'][b]['description']\n",
    "    for mail in data['summary']:\n",
    "        if int(b) in data['summary'][mail]['breaches']:\n",
    "            breach_mail = mail\n",
    "            result.append({\n",
    "                        'mail': breach_mail,\n",
    "                        'date': breach_date,\n",
    "                        'site': breach_site,\n",
    "                        'description': breach_desc\n",
    "                        })\n",
    "pd.DataFrame.from_dict(result)"
   ]
  },
  {
   "cell_type": "code",
   "execution_count": 5,
   "metadata": {
    "pycharm": {
     "name": "#%%\n"
    }
   },
   "outputs": [
    {
     "ename": "TypeError",
     "evalue": "'NoneType' object is not subscriptable",
     "output_type": "error",
     "traceback": [
      "\u001B[0;31m---------------------------------------------------------------------------\u001B[0m",
      "\u001B[0;31mTypeError\u001B[0m                                 Traceback (most recent call last)",
      "\u001B[0;32m<ipython-input-5-f8d08ba5873c>\u001B[0m in \u001B[0;36m<module>\u001B[0;34m\u001B[0m\n\u001B[1;32m     12\u001B[0m \u001B[0mleaks_json\u001B[0m \u001B[0;34m=\u001B[0m \u001B[0mavast_hack_check_req\u001B[0m\u001B[0;34m.\u001B[0m\u001B[0mjson\u001B[0m\u001B[0;34m(\u001B[0m\u001B[0;34m)\u001B[0m\u001B[0;34m\u001B[0m\u001B[0;34m\u001B[0m\u001B[0m\n\u001B[1;32m     13\u001B[0m \u001B[0;34m\u001B[0m\u001B[0m\n\u001B[0;32m---> 14\u001B[0;31m \u001B[0;32mfor\u001B[0m \u001B[0mbreach\u001B[0m \u001B[0;32min\u001B[0m \u001B[0mleaks_json\u001B[0m\u001B[0;34m[\u001B[0m\u001B[0;34m'breaches'\u001B[0m\u001B[0;34m]\u001B[0m\u001B[0;34m:\u001B[0m\u001B[0;34m\u001B[0m\u001B[0;34m\u001B[0m\u001B[0m\n\u001B[0m\u001B[1;32m     15\u001B[0m     \u001B[0mbreach_date\u001B[0m \u001B[0;34m=\u001B[0m \u001B[0mleaks_json\u001B[0m\u001B[0;34m[\u001B[0m\u001B[0;34m'breaches'\u001B[0m\u001B[0;34m]\u001B[0m\u001B[0;34m[\u001B[0m\u001B[0mbreach\u001B[0m\u001B[0;34m]\u001B[0m\u001B[0;34m[\u001B[0m\u001B[0;34m'publishDate'\u001B[0m\u001B[0;34m]\u001B[0m\u001B[0;34m\u001B[0m\u001B[0;34m\u001B[0m\u001B[0m\n\u001B[1;32m     16\u001B[0m     \u001B[0mbreach_date\u001B[0m \u001B[0;34m=\u001B[0m \u001B[0mdatetime\u001B[0m\u001B[0;34m.\u001B[0m\u001B[0mdatetime\u001B[0m\u001B[0;34m.\u001B[0m\u001B[0mstrptime\u001B[0m\u001B[0;34m(\u001B[0m\u001B[0mbreach_date\u001B[0m\u001B[0;34m,\u001B[0m \u001B[0;34m'%Y-%m-%dT%H:%M:%SZ'\u001B[0m\u001B[0;34m)\u001B[0m\u001B[0;34m.\u001B[0m\u001B[0mstrftime\u001B[0m\u001B[0;34m(\u001B[0m\u001B[0;34m'%d.%m.%Y'\u001B[0m\u001B[0;34m)\u001B[0m\u001B[0;34m\u001B[0m\u001B[0;34m\u001B[0m\u001B[0m\n",
      "\u001B[0;31mTypeError\u001B[0m: 'NoneType' object is not subscriptable"
     ]
    }
   ],
   "source": []
  }
 ],
 "metadata": {
  "kernelspec": {
   "display_name": "Python 3",
   "language": "python",
   "name": "python3"
  },
  "language_info": {
   "codemirror_mode": {
    "name": "ipython",
    "version": 3
   },
   "file_extension": ".py",
   "mimetype": "text/x-python",
   "name": "python",
   "nbconvert_exporter": "python",
   "pygments_lexer": "ipython3",
   "version": "3.6.9"
  }
 },
 "nbformat": 4,
 "nbformat_minor": 1
}